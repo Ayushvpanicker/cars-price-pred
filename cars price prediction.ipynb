{
 "cells": [
  {
   "cell_type": "code",
   "execution_count": 24,
   "id": "f2df9130-9be5-41a1-ac9b-d5c48e6374e2",
   "metadata": {},
   "outputs": [],
   "source": [
    "import torch\n",
    "import torch.nn as nn\n",
    "import torch.nn.functional as F\n",
    "from torch.utils.data import DataLoader, TensorDataset, random_split\n",
    "import pandas as pd\n",
    "from sklearn.preprocessing import StandardScaler\n"
   ]
  },
  {
   "cell_type": "code",
   "execution_count": 25,
   "id": "83cec779-9566-4a20-8f09-75f3b668fe02",
   "metadata": {},
   "outputs": [
    {
     "data": {
      "text/html": [
       "<div>\n",
       "<style scoped>\n",
       "    .dataframe tbody tr th:only-of-type {\n",
       "        vertical-align: middle;\n",
       "    }\n",
       "\n",
       "    .dataframe tbody tr th {\n",
       "        vertical-align: top;\n",
       "    }\n",
       "\n",
       "    .dataframe thead th {\n",
       "        text-align: right;\n",
       "    }\n",
       "</style>\n",
       "<table border=\"1\" class=\"dataframe\">\n",
       "  <thead>\n",
       "    <tr style=\"text-align: right;\">\n",
       "      <th></th>\n",
       "      <th>Car_Name</th>\n",
       "      <th>Year</th>\n",
       "      <th>Selling_Price</th>\n",
       "      <th>Present_Price</th>\n",
       "      <th>Kms_Driven</th>\n",
       "      <th>Fuel_Type</th>\n",
       "      <th>Seller_Type</th>\n",
       "      <th>Transmission</th>\n",
       "      <th>Owner</th>\n",
       "    </tr>\n",
       "  </thead>\n",
       "  <tbody>\n",
       "    <tr>\n",
       "      <th>0</th>\n",
       "      <td>ritz</td>\n",
       "      <td>2014</td>\n",
       "      <td>3.35</td>\n",
       "      <td>5.59</td>\n",
       "      <td>27000</td>\n",
       "      <td>Petrol</td>\n",
       "      <td>Dealer</td>\n",
       "      <td>Manual</td>\n",
       "      <td>0</td>\n",
       "    </tr>\n",
       "    <tr>\n",
       "      <th>1</th>\n",
       "      <td>sx4</td>\n",
       "      <td>2013</td>\n",
       "      <td>4.75</td>\n",
       "      <td>9.54</td>\n",
       "      <td>43000</td>\n",
       "      <td>Diesel</td>\n",
       "      <td>Dealer</td>\n",
       "      <td>Manual</td>\n",
       "      <td>0</td>\n",
       "    </tr>\n",
       "    <tr>\n",
       "      <th>2</th>\n",
       "      <td>ciaz</td>\n",
       "      <td>2017</td>\n",
       "      <td>7.25</td>\n",
       "      <td>9.85</td>\n",
       "      <td>6900</td>\n",
       "      <td>Petrol</td>\n",
       "      <td>Dealer</td>\n",
       "      <td>Manual</td>\n",
       "      <td>0</td>\n",
       "    </tr>\n",
       "    <tr>\n",
       "      <th>3</th>\n",
       "      <td>wagon r</td>\n",
       "      <td>2011</td>\n",
       "      <td>2.85</td>\n",
       "      <td>4.15</td>\n",
       "      <td>5200</td>\n",
       "      <td>Petrol</td>\n",
       "      <td>Dealer</td>\n",
       "      <td>Manual</td>\n",
       "      <td>0</td>\n",
       "    </tr>\n",
       "    <tr>\n",
       "      <th>4</th>\n",
       "      <td>swift</td>\n",
       "      <td>2014</td>\n",
       "      <td>4.60</td>\n",
       "      <td>6.87</td>\n",
       "      <td>42450</td>\n",
       "      <td>Diesel</td>\n",
       "      <td>Dealer</td>\n",
       "      <td>Manual</td>\n",
       "      <td>0</td>\n",
       "    </tr>\n",
       "  </tbody>\n",
       "</table>\n",
       "</div>"
      ],
      "text/plain": [
       "  Car_Name  Year  Selling_Price  Present_Price  Kms_Driven Fuel_Type  \\\n",
       "0     ritz  2014           3.35           5.59       27000    Petrol   \n",
       "1      sx4  2013           4.75           9.54       43000    Diesel   \n",
       "2     ciaz  2017           7.25           9.85        6900    Petrol   \n",
       "3  wagon r  2011           2.85           4.15        5200    Petrol   \n",
       "4    swift  2014           4.60           6.87       42450    Diesel   \n",
       "\n",
       "  Seller_Type Transmission  Owner  \n",
       "0      Dealer       Manual      0  \n",
       "1      Dealer       Manual      0  \n",
       "2      Dealer       Manual      0  \n",
       "3      Dealer       Manual      0  \n",
       "4      Dealer       Manual      0  "
      ]
     },
     "execution_count": 25,
     "metadata": {},
     "output_type": "execute_result"
    }
   ],
   "source": [
    "DATA_FILENAME = \"https://raw.githubusercontent.com/amankharwal/Website-data/master/car%20data.csv\"\n",
    "dataframe = pd.read_csv(DATA_FILENAME)\n",
    "dataframe.head()\n"
   ]
  },
  {
   "cell_type": "code",
   "execution_count": 26,
   "id": "77eb4478-b6bf-40a0-8546-72310ea13d09",
   "metadata": {},
   "outputs": [],
   "source": [
    "input_cols = [\"Year\",\"Present_Price\",\"Kms_Driven\",\"Owner\"]\n",
    "categorical_cols = [\"Fuel_Type\",\"Seller_Type\",\"Transmission\"]\n",
    "output_cols = [\"Selling_Price\"]\n"
   ]
  },
  {
   "cell_type": "code",
   "execution_count": 27,
   "id": "bb83faf9-3165-4e55-af3d-be6861e40ab2",
   "metadata": {},
   "outputs": [],
   "source": [
    "def dataframe_to_arrays(df):\n",
    "    df_copy = df.copy(deep=True)\n",
    "    for col in categorical_cols:\n",
    "        df_copy[col] = df_copy[col].astype('category').cat.codes\n",
    "    X = df_copy[input_cols].to_numpy(dtype=float)\n",
    "    y = df_copy[output_cols].to_numpy(dtype=float)\n",
    "    return X, y\n",
    "\n",
    "inputs_array, targets_array = dataframe_to_arrays(dataframe)\n"
   ]
  },
  {
   "cell_type": "code",
   "execution_count": 28,
   "id": "6a2e16ef-3798-4f99-8eab-70612e3233de",
   "metadata": {},
   "outputs": [],
   "source": [
    "scaler_X = StandardScaler()\n",
    "inputs_scaled = scaler_X.fit_transform(inputs_array)\n",
    "\n",
    "inputs = torch.Tensor(inputs_scaled)\n",
    "targets = torch.Tensor(targets_array)  # keep target in real price units\n"
   ]
  },
  {
   "cell_type": "code",
   "execution_count": 29,
   "id": "ae513d88-c26e-402a-b2d2-5a416ad60443",
   "metadata": {},
   "outputs": [],
   "source": [
    "dataset = TensorDataset(inputs, targets)\n",
    "train_ds, val_ds = random_split(dataset, [int(0.8*len(dataset)), len(dataset)-int(0.8*len(dataset))])\n",
    "batch_size = 32\n",
    "train_loader = DataLoader(train_ds, batch_size=batch_size, shuffle=True)\n",
    "val_loader = DataLoader(val_ds, batch_size=batch_size)\n"
   ]
  },
  {
   "cell_type": "code",
   "execution_count": 30,
   "id": "e121623c-8110-48b2-b29c-4c96f4b2ed71",
   "metadata": {},
   "outputs": [],
   "source": [
    "input_size = len(input_cols)\n",
    "output_size = len(output_cols)\n",
    "\n",
    "class CarsModel(nn.Module):\n",
    "    def __init__(self):\n",
    "        super().__init__()\n",
    "        self.fc1 = nn.Linear(input_size, 16)\n",
    "        self.fc2 = nn.Linear(16, output_size)\n",
    "        \n",
    "    def forward(self, xb):\n",
    "        xb = F.relu(self.fc1(xb))\n",
    "        out = self.fc2(xb)\n",
    "        return out  # raw output, we’ll clamp later if needed\n",
    "    \n",
    "    def training_step(self, batch):\n",
    "        inputs, targets = batch\n",
    "        out = self(inputs)\n",
    "        loss = F.l1_loss(out, targets)\n",
    "        return loss\n",
    "    \n",
    "    def validation_step(self, batch):\n",
    "        inputs, targets = batch\n",
    "        out = self(inputs)\n",
    "        loss = F.l1_loss(out, targets)\n",
    "        return {'val_loss': loss.detach()}\n",
    "    \n",
    "    def validation_epoch_end(self, outputs):\n",
    "        batch_losses = [x['val_loss'] for x in outputs]\n",
    "        epoch_loss = torch.stack(batch_losses).mean()\n",
    "        return {'val_loss': epoch_loss.item()}\n",
    "    \n",
    "    def epoch_end(self, epoch, result, num_epochs):\n",
    "        if (epoch+1) % 10 == 0 or epoch == num_epochs-1:\n",
    "            print(f\"Epoch [{epoch+1}/{num_epochs}], val_loss: {result['val_loss']:.4f}\")\n",
    "\n",
    "model = CarsModel()\n"
   ]
  },
  {
   "cell_type": "code",
   "execution_count": 31,
   "id": "1e2ae67d-2710-40cb-8573-d3fb790238f7",
   "metadata": {},
   "outputs": [],
   "source": [
    "def evaluate(model, val_loader):\n",
    "    outputs = [model.validation_step(batch) for batch in val_loader]\n",
    "    return model.validation_epoch_end(outputs)\n",
    "\n",
    "def fit(epochs, lr, model, train_loader, val_loader, opt_func=torch.optim.Adam):\n",
    "    optimizer = opt_func(model.parameters(), lr)\n",
    "    history = []\n",
    "    for epoch in range(epochs):\n",
    "        # Training phase\n",
    "        for batch in train_loader:\n",
    "            loss = model.training_step(batch)\n",
    "            loss.backward()\n",
    "            optimizer.step()\n",
    "            optimizer.zero_grad()\n",
    "        # Validation phase\n",
    "        result = evaluate(model, val_loader)\n",
    "        model.epoch_end(epoch, result, epochs)\n",
    "        history.append(result)\n",
    "    return history\n"
   ]
  },
  {
   "cell_type": "code",
   "execution_count": 32,
   "id": "b4cd6ca3-426b-4a1c-9d93-94050399c595",
   "metadata": {},
   "outputs": [
    {
     "name": "stdout",
     "output_type": "stream",
     "text": [
      "Epoch [10/300], val_loss: 0.8353\n",
      "Epoch [20/300], val_loss: 0.8650\n",
      "Epoch [30/300], val_loss: 0.8341\n",
      "Epoch [40/300], val_loss: 0.8312\n",
      "Epoch [50/300], val_loss: 0.8107\n",
      "Epoch [60/300], val_loss: 0.8250\n",
      "Epoch [70/300], val_loss: 0.8247\n",
      "Epoch [80/300], val_loss: 0.8051\n",
      "Epoch [90/300], val_loss: 0.8106\n",
      "Epoch [100/300], val_loss: 0.7892\n",
      "Epoch [110/300], val_loss: 0.7910\n",
      "Epoch [120/300], val_loss: 0.8114\n",
      "Epoch [130/300], val_loss: 0.8233\n",
      "Epoch [140/300], val_loss: 0.7873\n",
      "Epoch [150/300], val_loss: 0.8031\n",
      "Epoch [160/300], val_loss: 0.7953\n",
      "Epoch [170/300], val_loss: 0.7983\n",
      "Epoch [180/300], val_loss: 0.8167\n",
      "Epoch [190/300], val_loss: 0.8193\n",
      "Epoch [200/300], val_loss: 0.7817\n",
      "Epoch [210/300], val_loss: 0.7624\n",
      "Epoch [220/300], val_loss: 0.7760\n",
      "Epoch [230/300], val_loss: 0.8060\n",
      "Epoch [240/300], val_loss: 0.7643\n",
      "Epoch [250/300], val_loss: 0.7513\n",
      "Epoch [260/300], val_loss: 0.7648\n",
      "Epoch [270/300], val_loss: 0.7638\n",
      "Epoch [280/300], val_loss: 0.7848\n",
      "Epoch [290/300], val_loss: 0.7791\n",
      "Epoch [300/300], val_loss: 0.7945\n"
     ]
    }
   ],
   "source": [
    "epochs = 300\n",
    "lr = 1e-2\n",
    "history = fit(epochs, lr, model, train_loader, val_loader)\n"
   ]
  },
  {
   "cell_type": "code",
   "execution_count": 33,
   "id": "74fe90eb-6f8b-4141-b340-69e880c940a3",
   "metadata": {},
   "outputs": [
    {
     "name": "stdout",
     "output_type": "stream",
     "text": [
      "Final validation loss: 0.794488787651062\n"
     ]
    }
   ],
   "source": [
    "final_result = evaluate(model, val_loader)\n",
    "print(\"Final validation loss:\", final_result['val_loss'])\n"
   ]
  },
  {
   "cell_type": "code",
   "execution_count": 34,
   "id": "f3421c63-b15d-4443-b621-6446c2c77f92",
   "metadata": {},
   "outputs": [
    {
     "name": "stdout",
     "output_type": "stream",
     "text": [
      "Predicted Selling Price: 14.18\n"
     ]
    }
   ],
   "source": [
    "# Predict a new car price\n",
    "example_input = torch.Tensor(scaler_X.transform([[2020, 10.5, 5000, 0]]))\n",
    "pred = model(example_input).detach().numpy()\n",
    "pred_price = max(0, pred[0][0])  # clamp to >= 0\n",
    "print(\"Predicted Selling Price:\", round(pred_price, 2))\n"
   ]
  },
  {
   "cell_type": "code",
   "execution_count": 35,
   "id": "51cb8436-6b9d-4063-850a-d99e60cf945e",
   "metadata": {},
   "outputs": [
    {
     "data": {
      "image/png": "[encoded data removed]",
      "text/plain": [
       "<Figure size 800x500 with 1 Axes>"
      ]
     },
     "metadata": {},
     "output_type": "display_data"
    }
   ],
   "source": [
    "import matplotlib.pyplot as plt\n",
    "\n",
    "# Extract losses from history\n",
    "train_losses = []\n",
    "val_losses = []\n",
    "\n",
    "for epoch in range(len(history)):\n",
    "    val_losses.append(history[epoch]['val_loss'])\n",
    "\n",
    "# Since we used batch training, we can approximate train_loss per epoch\n",
    "# Optionally, compute train loss after each epoch\n",
    "for epoch in range(len(history)):\n",
    "    batch_losses = [model.training_step(batch).item() for batch in train_loader]\n",
    "    train_losses.append(sum(batch_losses)/len(batch_losses))\n",
    "\n",
    "# Plot\n",
    "plt.figure(figsize=(8,5))\n",
    "plt.plot(train_losses, label='Train Loss')\n",
    "plt.plot(val_losses, label='Validation Loss')\n",
    "plt.xlabel('Epoch')\n",
    "plt.ylabel('MAE Loss')\n",
    "plt.title('Training & Validation Loss')\n",
    "plt.legend()\n",
    "plt.show()\n"
   ]
  },
  {
   "cell_type": "code",
   "execution_count": null,
   "id": "939088af-2ec1-4fbf-a8a1-4bc3fb542836",
   "metadata": {},
   "outputs": [],
   "source": []
  }
 ],
 "metadata": {
  "kernelspec": {
   "display_name": "Python [conda env:base] *",
   "language": "python",
   "name": "conda-base-py"
  },
  "language_info": {
   "codemirror_mode": {
    "name": "ipython",
    "version": 3
   },
   "file_extension": ".py",
   "mimetype": "text/x-python",
   "name": "python",
   "nbconvert_exporter": "python",
   "pygments_lexer": "ipython3",
   "version": "3.13.5"
  }
 },
 "nbformat": 4,
 "nbformat_minor": 5
}
